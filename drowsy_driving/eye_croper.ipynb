{
  "nbformat": 4,
  "nbformat_minor": 0,
  "metadata": {
    "colab": {
      "name": "eye_croper.ipynb",
      "provenance": [],
      "collapsed_sections": []
    },
    "kernelspec": {
      "name": "python3",
      "display_name": "Python 3"
    },
    "language_info": {
      "name": "python"
    }
  },
  "cells": [
    {
      "cell_type": "code",
      "source": [
        "import cv2, dlib, os\n",
        "from keras.preprocessing import image\n",
        "from imutils import face_utils\n",
        "import tensorflow as tf\n",
        "import numpy as np"
      ],
      "metadata": {
        "id": "4_3bXFXGj5WU"
      },
      "execution_count": 80,
      "outputs": []
    },
    {
      "cell_type": "code",
      "source": [
        "!pip install face-utils"
      ],
      "metadata": {
        "colab": {
          "base_uri": "https://localhost:8080/"
        },
        "id": "_ekOTx-Burgp",
        "outputId": "6ebabb59-a15c-4f49-aa92-c44ade8c1ba1"
      },
      "execution_count": 81,
      "outputs": [
        {
          "output_type": "stream",
          "name": "stdout",
          "text": [
            "Requirement already satisfied: face-utils in /usr/local/lib/python3.7/dist-packages (0.1.0)\n",
            "Requirement already satisfied: face-recognition in /usr/local/lib/python3.7/dist-packages (from face-utils) (1.3.0)\n",
            "Requirement already satisfied: cmake in /usr/local/lib/python3.7/dist-packages (from face-utils) (3.12.0)\n",
            "Requirement already satisfied: opencv-python in /usr/local/lib/python3.7/dist-packages (from face-utils) (4.1.2.30)\n",
            "Requirement already satisfied: Pillow in /usr/local/lib/python3.7/dist-packages (from face-recognition->face-utils) (7.1.2)\n",
            "Requirement already satisfied: numpy in /usr/local/lib/python3.7/dist-packages (from face-recognition->face-utils) (1.21.5)\n",
            "Requirement already satisfied: dlib>=19.7 in /usr/local/lib/python3.7/dist-packages (from face-recognition->face-utils) (19.18.0)\n",
            "Requirement already satisfied: face-recognition-models>=0.3.0 in /usr/local/lib/python3.7/dist-packages (from face-recognition->face-utils) (0.3.0)\n",
            "Requirement already satisfied: Click>=6.0 in /usr/local/lib/python3.7/dist-packages (from face-recognition->face-utils) (7.1.2)\n"
          ]
        }
      ]
    },
    {
      "cell_type": "code",
      "execution_count": 82,
      "metadata": {
        "id": "M7DtPbWpjdQW"
      },
      "outputs": [],
      "source": [
        "IMG_SIZE = (34,26)\n",
        "detector = dlib.get_frontal_face_detector()\n",
        "predictor = dlib.shape_predictor('/content/drive/MyDrive/Colab Notebooks/업로드용 자료/shape_predictor_68_face_landmarks.dat')"
      ]
    },
    {
      "cell_type": "code",
      "source": [
        "def crop_eye(img, eye_points):\n",
        "  x1, y1 = np.amin(eye_points, axis=0)  \n",
        "  x2, y2 = np.amax(eye_points, axis=0)\n",
        "  cx, cy = (x1 + x2) / 2, (y1 + y2) / 2\n",
        "\n",
        "  w = (x2 - x1) * 2\n",
        "  h = w * IMG_SIZE[1] / IMG_SIZE[0]\n",
        "\n",
        "  margin_x, margin_y = w / 2, h / 2\n",
        "\n",
        "  min_x, min_y = int(cx - margin_x), int(cy - margin_y)\n",
        "  max_x, max_y = int(cx + margin_x), int(cy + margin_y)\n",
        "\n",
        "  eye_rect = np.rint([min_x, min_y, max_x, max_y]).astype(np.int)# 대각선 좌표\n",
        "\n",
        "  eye_img = gray[eye_rect[1]:eye_rect[3], eye_rect[0]:eye_rect[2]]\n",
        "\n",
        "  return eye_img, eye_rect"
      ],
      "metadata": {
        "id": "efAaRH7Olv0q"
      },
      "execution_count": 83,
      "outputs": []
    },
    {
      "cell_type": "code",
      "source": [
        "dir='/content/drive/MyDrive/Colab Notebooks/업로드용 자료/asian_face'\n",
        "\n",
        "dir_list_1=os.listdir(dir)\n",
        "\n",
        "dir_list_2=[]\n",
        "dir_list_fin=[]\n",
        "\n",
        "for i in dir_list_1:\n",
        "    dir_list_2.append(os.path.join(dir+'/'+i))\n",
        "\n",
        "for j in dir_list_2:\n",
        "    dir_list_fin.append(os.path.join(j+'/'+'111'))\n",
        "    dir_list_fin.append(os.path.join(j+'/'+'112'))"
      ],
      "metadata": {
        "id": "3nChDiu9mc2c"
      },
      "execution_count": 84,
      "outputs": []
    },
    {
      "cell_type": "code",
      "source": [
        "imgs=[]\n",
        "for folder in dir_list_fin:\n",
        "    file_names=os.listdir(folder)\n",
        "    for file_name in file_names:\n",
        "        file_path=folder+'/'+file_name\n",
        "        img = cv2.imread(file_path)\n",
        "        imgs.append(img)"
      ],
      "metadata": {
        "id": "sNarwaw_l1p3"
      },
      "execution_count": 85,
      "outputs": []
    },
    {
      "cell_type": "code",
      "source": [
        "for img,i in zip(imgs,range(len(imgs))):\n",
        "    img_ori = cv2.resize(img, dsize=(0, 0), fx=1, fy=1)\n",
        "    img = img_ori.copy()\n",
        "    gray = cv2.cvtColor(img, cv2.COLOR_BGR2GRAY)\n",
        "    faces = detector(gray)\n",
        "    \n",
        "    for face in faces:\n",
        "        shapes = predictor(gray,face)\n",
        "        shapes = face_utils.shape_to_np(shapes) \n",
        "        eye_img_r, eye_rect_r = crop_eye(img, eye_points=shapes[42:48]) # 43~48 오른쪽 눈\n",
        "\n",
        "        cv2.imwrite(f'/content/drive/MyDrive/Colab Notebooks/업로드용 자료/크로핑/{i}.jpg',eye_img_r)"
      ],
      "metadata": {
        "colab": {
          "base_uri": "https://localhost:8080/"
        },
        "id": "7AZ2-WRpxy9k",
        "outputId": "04a3ea4d-8e78-4404-ff07-7c9c110f7116"
      },
      "execution_count": 93,
      "outputs": [
        {
          "output_type": "stream",
          "name": "stderr",
          "text": [
            "/usr/local/lib/python3.7/dist-packages/ipykernel_launcher.py:14: DeprecationWarning: `np.int` is a deprecated alias for the builtin `int`. To silence this warning, use `int` by itself. Doing this will not modify any behavior and is safe. When replacing `np.int`, you may wish to use e.g. `np.int64` or `np.int32` to specify the precision. If you wish to review your current use, check the release note link for additional information.\n",
            "Deprecated in NumPy 1.20; for more details and guidance: https://numpy.org/devdocs/release/1.20.0-notes.html#deprecations\n",
            "  \n"
          ]
        }
      ]
    }
  ]
}