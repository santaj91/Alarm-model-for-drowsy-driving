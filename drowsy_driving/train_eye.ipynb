{
  "cells": [
    {
      "cell_type": "markdown",
      "metadata": {
        "id": "mBYSEmKO2Ax-"
      },
      "source": [
        "# 데이터 호출"
      ]
    },
    {
      "cell_type": "code",
      "source": [
        "from google.colab import drive\n",
        "drive.mount('/content/drive')"
      ],
      "metadata": {
        "colab": {
          "base_uri": "https://localhost:8080/"
        },
        "id": "LmKKY_FmMQlz",
        "outputId": "c2d74597-4bd8-471b-a9f8-64c4aa9d3225"
      },
      "execution_count": 1,
      "outputs": [
        {
          "output_type": "stream",
          "name": "stdout",
          "text": [
            "Drive already mounted at /content/drive; to attempt to forcibly remount, call drive.mount(\"/content/drive\", force_remount=True).\n"
          ]
        }
      ]
    },
    {
      "cell_type": "code",
      "execution_count": 2,
      "metadata": {
        "id": "2CRgY0OpEHFB"
      },
      "outputs": [],
      "source": [
        "import tensorflow as tf\n",
        "import csv,os\n",
        "import numpy as np\n",
        "import matplotlib.pyplot as plt\n",
        "\n",
        "from keras.preprocessing.image import load_img, img_to_array\n",
        "from sklearn.model_selection import train_test_split\n",
        "from keras.callbacks import EarlyStopping\n",
        "\n",
        "from tensorflow.python.keras.models import load_model\n",
        "from tensorflow.keras.preprocessing.image import ImageDataGenerator\n",
        "from tensorflow.keras.models import Sequential\n",
        "from tensorflow.keras.layers import Conv2D,Flatten,Dense,Activation,Dropout,MaxPooling2D\n",
        "from tensorflow.keras.activations import relu\n",
        "from tensorflow.keras.optimizers import Adam"
      ]
    },
    {
      "cell_type": "code",
      "execution_count": 3,
      "metadata": {
        "id": "aDuLemklGhuC"
      },
      "outputs": [],
      "source": [
        "def readCsv(path):\n",
        "    with open (path,'r') as f:\n",
        "        reader = csv.DictReader(f)\n",
        "        rows=list(reader)\n",
        "    #imgs is a numpy array with all the images\n",
        "    #tgs is a numpy array with the tags of the images\n",
        "\n",
        "    height=26 # 26 X 34\n",
        "    width=34\n",
        "    \n",
        "    imgs= np.empty((len(list(rows)),height,width,1),dtype=np.uint8)    # numpy.empty(shape, dtype=float, order='C', *, like=None)\n",
        "    tgs=np.empty((len(list(rows)),1))\n",
        "    imgs_flip= np.empty((len(list(rows)),height,width,1),dtype=np.uint8) # 좌우반전\n",
        "\n",
        "    for row,i in zip(rows,range(len(rows))):\n",
        "        #convert the list back to the image format\n",
        "\n",
        "        img= row['image']\n",
        "        img=img.strip('[').strip(']').split(',')\n",
        "\n",
        "        # rows= OrderedDict([('state', 'open'),\n",
        "        #       ('image',\n",
        "        #        '[88, 91, 95, 99, 102, 106, 109, 110, 113, 114, 118, 122, 123, 125, 126, 124, 125, 123, 124, 123, 120, 114, 117, 112, 108, 105, 100......)\n",
        "\n",
        "        im=np.array(img,dtype=np.uint8) # uint8\t부호 없는(unsigned) 8비트, 1바이트 정수\t0 ~ 255\n",
        "        im=im.reshape((26,34))\n",
        "        im=np.expand_dims(im,axis=2) # 3차원 추가(1= 흑백)\n",
        "        imgs[i]=im\n",
        "        imgs_flip[i]=np.fliplr(im)\n",
        "\n",
        "        #the tag for open is 1 and for close is 0\n",
        "\n",
        "        tag= row['state']\n",
        "        if tag == 'open':\n",
        "            tgs[i]=1\n",
        "        else:\n",
        "            tgs[i]=0\n",
        "    # 좌우 반전\n",
        "    imgs_concat=np.concatenate((imgs,imgs_flip))\n",
        "    tgs_concat=np.concatenate((tgs,tgs))\n",
        "\n",
        "    #return images and their respective tags\n",
        "    return imgs_concat , tgs_concat"
      ]
    },
    {
      "cell_type": "code",
      "execution_count": 4,
      "metadata": {
        "id": "K3aOuoGxLbKp"
      },
      "outputs": [],
      "source": [
        "X,y=readCsv('/content/drive/MyDrive/Colab Notebooks/업로드용 자료/dataset.csv')"
      ]
    },
    {
      "cell_type": "markdown",
      "source": [
        "# 추가 데이터 - 동양인 눈 크로핑 데이터"
      ],
      "metadata": {
        "id": "p98V8oiRaqQj"
      }
    },
    {
      "cell_type": "code",
      "source": [
        "crop_dir='/content/drive/MyDrive/Colab Notebooks/업로드용 자료/크로핑'\n",
        "\n",
        "file_names=os.listdir(crop_dir)"
      ],
      "metadata": {
        "id": "jX_yOvLbXq4s"
      },
      "execution_count": 5,
      "outputs": []
    },
    {
      "cell_type": "code",
      "source": [
        "height=26\n",
        "width=34\n",
        "imgs= np.empty((len(list(file_names)),height,width,1),dtype=np.uint8)\n",
        "y_ex=[]\n",
        "\n",
        "for file_name,i in zip(file_names,range(len(file_names))):\n",
        "    crop=os.path.join(crop_dir,file_name)\n",
        "    im=load_img(crop,target_size=(height,width),grayscale=True)\n",
        "    im=np.array(im,dtype=np.uint8)\n",
        "    im=np.expand_dims(im,axis=2)\n",
        "    imgs[i]=im\n",
        "    y_ex.append(1)"
      ],
      "metadata": {
        "id": "7kVVvJAfYKeL",
        "colab": {
          "base_uri": "https://localhost:8080/"
        },
        "outputId": "cffc675e-dd30-465b-b02c-c32decd6b4c1"
      },
      "execution_count": 6,
      "outputs": [
        {
          "output_type": "stream",
          "name": "stderr",
          "text": [
            "/usr/local/lib/python3.7/dist-packages/keras_preprocessing/image/utils.py:107: UserWarning: grayscale is deprecated. Please use color_mode = \"grayscale\"\n",
            "  warnings.warn('grayscale is deprecated. Please use '\n"
          ]
        }
      ]
    },
    {
      "cell_type": "code",
      "source": [
        "k=y_ex.copy()"
      ],
      "metadata": {
        "id": "3aIB7owpj70d"
      },
      "execution_count": 7,
      "outputs": []
    },
    {
      "cell_type": "code",
      "source": [
        "k=np.expand_dims(k,axis=1)"
      ],
      "metadata": {
        "id": "PbjU1hQQk4nA"
      },
      "execution_count": 8,
      "outputs": []
    },
    {
      "cell_type": "code",
      "source": [
        "y_ex=k"
      ],
      "metadata": {
        "id": "u9vFdL-rlAYt"
      },
      "execution_count": 9,
      "outputs": []
    },
    {
      "cell_type": "code",
      "source": [
        "imgs.shape , y_ex.shape"
      ],
      "metadata": {
        "colab": {
          "base_uri": "https://localhost:8080/"
        },
        "id": "R0IuaEoBlOfm",
        "outputId": "2acc9614-9f8a-4025-e145-3ef87dee7bee"
      },
      "execution_count": 10,
      "outputs": [
        {
          "output_type": "execute_result",
          "data": {
            "text/plain": [
              "((13620, 26, 34, 1), (13620, 1))"
            ]
          },
          "metadata": {},
          "execution_count": 10
        }
      ]
    },
    {
      "cell_type": "code",
      "source": [
        "X=np.concatenate((X,imgs))\n",
        "y=np.concatenate((y,y_ex))"
      ],
      "metadata": {
        "id": "nhDf5WGRmhHW"
      },
      "execution_count": 11,
      "outputs": []
    },
    {
      "cell_type": "code",
      "source": [
        "X_train,X_val,y_train,y_val=train_test_split(X, y, test_size=0.2, random_state=42)"
      ],
      "metadata": {
        "id": "Dzd6MA_7cH8n"
      },
      "execution_count": 12,
      "outputs": []
    },
    {
      "cell_type": "code",
      "source": [
        "X_train.shape, y_train.shape,X_val.shape,y_val.shape"
      ],
      "metadata": {
        "colab": {
          "base_uri": "https://localhost:8080/"
        },
        "id": "9_lwMz5KlPxK",
        "outputId": "b820ab4f-bef0-4a93-9e3e-9968bf367392"
      },
      "execution_count": 13,
      "outputs": [
        {
          "output_type": "execute_result",
          "data": {
            "text/plain": [
              "((15494, 26, 34, 1), (15494, 1), (3874, 26, 34, 1), (3874, 1))"
            ]
          },
          "metadata": {},
          "execution_count": 13
        }
      ]
    },
    {
      "cell_type": "code",
      "execution_count": 14,
      "metadata": {
        "id": "tyxa01wu7_f9",
        "colab": {
          "base_uri": "https://localhost:8080/",
          "height": 269
        },
        "outputId": "b8c0de94-9b90-4022-8b6c-10100a9bc500"
      },
      "outputs": [
        {
          "output_type": "display_data",
          "data": {
            "text/plain": [
              "<Figure size 432x288 with 25 Axes>"
            ],
            "image/png": "[encoded data removed]"
          },
          "metadata": {
            "needs_background": "light"
          }
        }
      ],
      "source": [
        "for i in range(25):\n",
        "    plt.subplot(5,5,i+1)\n",
        "    plt.imshow(X_train[i].reshape((26, 34)), cmap='gray') # (26,34,1)이라서 (26,34)로 변경해준다"
      ]
    },
    {
      "cell_type": "markdown",
      "metadata": {
        "id": "frVBsMZaCM-G"
      },
      "source": [
        "# Data Augmentation"
      ]
    },
    {
      "cell_type": "code",
      "execution_count": 15,
      "metadata": {
        "id": "F9Pd0jIKCSn9"
      },
      "outputs": [],
      "source": [
        "datagen = ImageDataGenerator(\n",
        "    rescale=1./255,\n",
        "    rotation_range=20,\n",
        "    width_shift_range=0.2,\n",
        "    height_shift_range=0.2,\n",
        "\n",
        ")\n",
        "\n",
        "datagen_val=ImageDataGenerator(rescale=1./255)\n",
        "\n",
        "train_gen= datagen.flow(\n",
        "    x=X_train, y=y_train,\n",
        "    batch_size=32,\n",
        "    shuffle=False\n",
        ")\n",
        "\n",
        "val_gen=datagen_val.flow(\n",
        "    x=X_val,y=y_val,\n",
        "    batch_size=32,\n",
        "    shuffle=False\n",
        ")"
      ]
    },
    {
      "cell_type": "markdown",
      "metadata": {
        "id": "x5UXTIasJQe1"
      },
      "source": [
        "# Modeling"
      ]
    },
    {
      "cell_type": "code",
      "execution_count": 16,
      "metadata": {
        "id": "PwN2V7XHJSlq"
      },
      "outputs": [],
      "source": [
        "model=tf.keras.Sequential()\n",
        "model.add(Conv2D(32,(3,3),padding='same',activation='relu',strides=1,input_shape = (26, 34, 1))\n",
        ")\n",
        "model.add(MaxPooling2D(2,2))\n",
        "model.add(Conv2D(64,(3,3),padding='same',activation='relu',strides=1))\n",
        "model.add(MaxPooling2D(2,2))\n",
        "model.add(Conv2D(128,(3,3),padding='same',activation='relu',strides=1))\n",
        "model.add(MaxPooling2D(2,2))\n",
        "model.add(Flatten())\n",
        "model.add(Dense(256,activation='relu'))\n",
        "model.add(Dense(1,activation='sigmoid'))\n",
        "\n",
        "model.compile(optimizer='adam',\n",
        "              loss='binary_crossentropy',\n",
        "              metrics=['accuracy'])"
      ]
    },
    {
      "cell_type": "code",
      "execution_count": 17,
      "metadata": {
        "id": "xz3sMyV1__D4",
        "colab": {
          "base_uri": "https://localhost:8080/"
        },
        "outputId": "b4780eef-a7ef-4630-f3cd-c0ac76f2a252"
      },
      "outputs": [
        {
          "output_type": "stream",
          "name": "stdout",
          "text": [
            "Epoch 1/2000\n",
            "485/485 [==============================] - 12s 21ms/step - loss: 0.2975 - accuracy: 0.8858 - val_loss: 0.1945 - val_accuracy: 0.9220\n",
            "Epoch 2/2000\n",
            "485/485 [==============================] - 11s 22ms/step - loss: 0.1865 - accuracy: 0.9262 - val_loss: 0.1701 - val_accuracy: 0.9352\n",
            "Epoch 3/2000\n",
            "485/485 [==============================] - 10s 20ms/step - loss: 0.1461 - accuracy: 0.9408 - val_loss: 0.0989 - val_accuracy: 0.9592\n",
            "Epoch 4/2000\n",
            "485/485 [==============================] - 10s 20ms/step - loss: 0.1291 - accuracy: 0.9502 - val_loss: 0.0987 - val_accuracy: 0.9677\n",
            "Epoch 5/2000\n",
            "485/485 [==============================] - 10s 20ms/step - loss: 0.1156 - accuracy: 0.9560 - val_loss: 0.0970 - val_accuracy: 0.9602\n",
            "Epoch 6/2000\n",
            "485/485 [==============================] - 10s 20ms/step - loss: 0.1063 - accuracy: 0.9577 - val_loss: 0.0872 - val_accuracy: 0.9633\n",
            "Epoch 7/2000\n",
            "485/485 [==============================] - 10s 21ms/step - loss: 0.0953 - accuracy: 0.9640 - val_loss: 0.0774 - val_accuracy: 0.9726\n",
            "Epoch 8/2000\n",
            "485/485 [==============================] - 10s 20ms/step - loss: 0.0913 - accuracy: 0.9639 - val_loss: 0.1136 - val_accuracy: 0.9553\n",
            "Epoch 9/2000\n",
            "485/485 [==============================] - 10s 20ms/step - loss: 0.0912 - accuracy: 0.9650 - val_loss: 0.0707 - val_accuracy: 0.9732\n",
            "Epoch 10/2000\n",
            "485/485 [==============================] - 10s 20ms/step - loss: 0.0879 - accuracy: 0.9648 - val_loss: 0.0636 - val_accuracy: 0.9747\n",
            "Epoch 11/2000\n",
            "485/485 [==============================] - 10s 20ms/step - loss: 0.0801 - accuracy: 0.9677 - val_loss: 0.0742 - val_accuracy: 0.9711\n",
            "Epoch 12/2000\n",
            "485/485 [==============================] - 10s 20ms/step - loss: 0.0797 - accuracy: 0.9699 - val_loss: 0.0629 - val_accuracy: 0.9726\n",
            "Epoch 13/2000\n",
            "485/485 [==============================] - 10s 20ms/step - loss: 0.0747 - accuracy: 0.9717 - val_loss: 0.0559 - val_accuracy: 0.9783\n",
            "Epoch 14/2000\n",
            "485/485 [==============================] - 10s 20ms/step - loss: 0.0769 - accuracy: 0.9701 - val_loss: 0.0595 - val_accuracy: 0.9763\n",
            "Epoch 15/2000\n",
            "485/485 [==============================] - 10s 20ms/step - loss: 0.0735 - accuracy: 0.9697 - val_loss: 0.0595 - val_accuracy: 0.9763\n",
            "Epoch 16/2000\n",
            "485/485 [==============================] - 10s 20ms/step - loss: 0.0697 - accuracy: 0.9719 - val_loss: 0.0670 - val_accuracy: 0.9716\n",
            "Epoch 17/2000\n",
            "485/485 [==============================] - 10s 20ms/step - loss: 0.0683 - accuracy: 0.9739 - val_loss: 0.0587 - val_accuracy: 0.9763\n",
            "Epoch 18/2000\n",
            "485/485 [==============================] - 10s 20ms/step - loss: 0.0642 - accuracy: 0.9745 - val_loss: 0.0558 - val_accuracy: 0.9775\n",
            "Epoch 19/2000\n",
            "485/485 [==============================] - 10s 20ms/step - loss: 0.0632 - accuracy: 0.9751 - val_loss: 0.0545 - val_accuracy: 0.9770\n",
            "Epoch 20/2000\n",
            "485/485 [==============================] - 10s 20ms/step - loss: 0.0637 - accuracy: 0.9744 - val_loss: 0.0621 - val_accuracy: 0.9750\n",
            "Epoch 21/2000\n",
            "485/485 [==============================] - 10s 21ms/step - loss: 0.0626 - accuracy: 0.9741 - val_loss: 0.0591 - val_accuracy: 0.9763\n",
            "Epoch 22/2000\n",
            "485/485 [==============================] - 10s 20ms/step - loss: 0.0592 - accuracy: 0.9776 - val_loss: 0.0611 - val_accuracy: 0.9755\n",
            "Epoch 23/2000\n",
            "485/485 [==============================] - 10s 20ms/step - loss: 0.0615 - accuracy: 0.9756 - val_loss: 0.0656 - val_accuracy: 0.9750\n",
            "Epoch 24/2000\n",
            "485/485 [==============================] - 10s 21ms/step - loss: 0.0525 - accuracy: 0.9793 - val_loss: 0.0552 - val_accuracy: 0.9775\n",
            "Epoch 25/2000\n",
            "485/485 [==============================] - 10s 21ms/step - loss: 0.0550 - accuracy: 0.9788 - val_loss: 0.0477 - val_accuracy: 0.9814\n",
            "Epoch 26/2000\n",
            "485/485 [==============================] - 10s 21ms/step - loss: 0.0560 - accuracy: 0.9785 - val_loss: 0.0521 - val_accuracy: 0.9801\n",
            "Epoch 27/2000\n",
            "485/485 [==============================] - 10s 21ms/step - loss: 0.0560 - accuracy: 0.9780 - val_loss: 0.0535 - val_accuracy: 0.9783\n",
            "Epoch 28/2000\n",
            "485/485 [==============================] - 10s 20ms/step - loss: 0.0557 - accuracy: 0.9777 - val_loss: 0.0576 - val_accuracy: 0.9770\n",
            "Epoch 29/2000\n",
            "485/485 [==============================] - 10s 21ms/step - loss: 0.0515 - accuracy: 0.9793 - val_loss: 0.0520 - val_accuracy: 0.9801\n",
            "Epoch 30/2000\n",
            "485/485 [==============================] - 10s 21ms/step - loss: 0.0508 - accuracy: 0.9802 - val_loss: 0.0465 - val_accuracy: 0.9809\n",
            "Epoch 31/2000\n",
            "485/485 [==============================] - 10s 21ms/step - loss: 0.0508 - accuracy: 0.9797 - val_loss: 0.0569 - val_accuracy: 0.9801\n",
            "Epoch 32/2000\n",
            "485/485 [==============================] - 10s 20ms/step - loss: 0.0512 - accuracy: 0.9803 - val_loss: 0.0565 - val_accuracy: 0.9768\n",
            "Epoch 33/2000\n",
            "485/485 [==============================] - 10s 20ms/step - loss: 0.0465 - accuracy: 0.9822 - val_loss: 0.0529 - val_accuracy: 0.9796\n"
          ]
        },
        {
          "output_type": "execute_result",
          "data": {
            "text/plain": [
              "<keras.callbacks.History at 0x7f68d0ab0210>"
            ]
          },
          "metadata": {},
          "execution_count": 17
        }
      ],
      "source": [
        "early_stopping = EarlyStopping(monitor = 'val_loss', min_delta = 0.01, patience = 20, mode = 'auto')\n",
        "\n",
        "model.fit(train_gen,epochs=2000,validation_data=val_gen,callbacks = [early_stopping])"
      ]
    },
    {
      "cell_type": "code",
      "execution_count": 18,
      "metadata": {
        "id": "RWplGY7nGUqo",
        "colab": {
          "base_uri": "https://localhost:8080/"
        },
        "outputId": "6da1e854-f83a-48d0-9058-a7aac96c7b7b"
      },
      "outputs": [
        {
          "output_type": "stream",
          "name": "stdout",
          "text": [
            "Model: \"sequential\"\n",
            "_________________________________________________________________\n",
            " Layer (type)                Output Shape              Param #   \n",
            "=================================================================\n",
            " conv2d (Conv2D)             (None, 26, 34, 32)        320       \n",
            "                                                                 \n",
            " max_pooling2d (MaxPooling2D  (None, 13, 17, 32)       0         \n",
            " )                                                               \n",
            "                                                                 \n",
            " conv2d_1 (Conv2D)           (None, 13, 17, 64)        18496     \n",
            "                                                                 \n",
            " max_pooling2d_1 (MaxPooling  (None, 6, 8, 64)         0         \n",
            " 2D)                                                             \n",
            "                                                                 \n",
            " conv2d_2 (Conv2D)           (None, 6, 8, 128)         73856     \n",
            "                                                                 \n",
            " max_pooling2d_2 (MaxPooling  (None, 3, 4, 128)        0         \n",
            " 2D)                                                             \n",
            "                                                                 \n",
            " flatten (Flatten)           (None, 1536)              0         \n",
            "                                                                 \n",
            " dense (Dense)               (None, 256)               393472    \n",
            "                                                                 \n",
            " dense_1 (Dense)             (None, 1)                 257       \n",
            "                                                                 \n",
            "=================================================================\n",
            "Total params: 486,401\n",
            "Trainable params: 486,401\n",
            "Non-trainable params: 0\n",
            "_________________________________________________________________\n"
          ]
        }
      ],
      "source": [
        "model.summary()"
      ]
    },
    {
      "cell_type": "code",
      "execution_count": 19,
      "metadata": {
        "id": "RraFtuPzEgKw",
        "colab": {
          "base_uri": "https://localhost:8080/",
          "height": 376
        },
        "outputId": "4500b208-68d2-41b8-9dfe-0f7f379cecb7"
      },
      "outputs": [
        {
          "output_type": "stream",
          "name": "stdout",
          "text": [
            "test acc: 0.9796076406814662\n"
          ]
        },
        {
          "output_type": "stream",
          "name": "stderr",
          "text": [
            "/usr/local/lib/python3.7/dist-packages/ipykernel_launcher.py:5: DeprecationWarning: `np.int` is a deprecated alias for the builtin `int`. To silence this warning, use `int` by itself. Doing this will not modify any behavior and is safe. When replacing `np.int`, you may wish to use e.g. `np.int64` or `np.int32` to specify the precision. If you wish to review your current use, check the release note link for additional information.\n",
            "Deprecated in NumPy 1.20; for more details and guidance: https://numpy.org/devdocs/release/1.20.0-notes.html#deprecations\n",
            "  \"\"\"\n"
          ]
        },
        {
          "output_type": "execute_result",
          "data": {
            "text/plain": [
              "<matplotlib.axes._subplots.AxesSubplot at 0x7f68d0d93210>"
            ]
          },
          "metadata": {},
          "execution_count": 19
        },
        {
          "output_type": "display_data",
          "data": {
            "text/plain": [
              "<Figure size 432x288 with 2 Axes>"
            ],
            "image/png": "[encoded data removed]"
          },
          "metadata": {
            "needs_background": "light"
          }
        }
      ],
      "source": [
        "from sklearn.metrics import accuracy_score, confusion_matrix\n",
        "import seaborn as sns\n",
        "\n",
        "y_pred = model.predict(X_val/255.)\n",
        "y_pred_logical = (y_pred > 0.5).astype(np.int)\n",
        "\n",
        "print ('test acc: %s' % accuracy_score(y_val, y_pred_logical))\n",
        "cm = confusion_matrix(y_val, y_pred_logical)\n",
        "sns.heatmap(cm, annot=True)"
      ]
    },
    {
      "cell_type": "code",
      "execution_count": 20,
      "metadata": {
        "id": "EZMxU8DOKr8U"
      },
      "outputs": [],
      "source": [
        "model.save('blink_or_not_ver2.h5')"
      ]
    }
  ],
  "metadata": {
    "colab": {
      "collapsed_sections": [],
      "name": "train_eye.ipynb",
      "provenance": []
    },
    "kernelspec": {
      "display_name": "Python 3",
      "name": "python3"
    },
    "language_info": {
      "name": "python"
    },
    "accelerator": "GPU"
  },
  "nbformat": 4,
  "nbformat_minor": 0
}