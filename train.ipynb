{
  "cells": [
    {
      "cell_type": "markdown",
      "metadata": {
        "id": "mBYSEmKO2Ax-"
      },
      "source": [
        "# 데이터 호출"
      ]
    },
    {
      "cell_type": "code",
      "source": [
        "from google.colab import drive\n",
        "drive.mount('/content/drive')"
      ],
      "metadata": {
        "colab": {
          "base_uri": "https://localhost:8080/"
        },
        "id": "LmKKY_FmMQlz",
        "outputId": "53e9dc40-1862-4248-b25d-5bd68cb4a86b"
      },
      "execution_count": 6,
      "outputs": [
        {
          "output_type": "stream",
          "name": "stdout",
          "text": [
            "Drive already mounted at /content/drive; to attempt to forcibly remount, call drive.mount(\"/content/drive\", force_remount=True).\n"
          ]
        }
      ]
    },
    {
      "cell_type": "code",
      "execution_count": 7,
      "metadata": {
        "id": "2CRgY0OpEHFB"
      },
      "outputs": [],
      "source": [
        "import tensorflow as tf\n",
        "import csv\n",
        "import numpy as np\n",
        "import matplotlib.pyplot as plt\n",
        "\n",
        "\n",
        "from sklearn.model_selection import train_test_split\n",
        "\n",
        "from tensorflow.python.keras.models import load_model\n",
        "from tensorflow.keras.preprocessing.image import ImageDataGenerator\n",
        "from tensorflow.keras.models import Sequential\n",
        "from tensorflow.keras.layers import Conv2D,Flatten,Dense,Activation,Dropout,MaxPooling2D\n",
        "from tensorflow.keras.activations import relu\n",
        "from tensorflow.keras.optimizers import Adam"
      ]
    },
    {
      "cell_type": "code",
      "execution_count": 8,
      "metadata": {
        "id": "aDuLemklGhuC"
      },
      "outputs": [],
      "source": [
        "def readCsv(path):\n",
        "    with open (path,'r') as f:\n",
        "        reader = csv.DictReader(f)\n",
        "        rows=list(reader)\n",
        "    #imgs is a numpy array with all the images\n",
        "    #tgs is a numpy array with the tags of the images\n",
        "\n",
        "    height=26 # 26 X 34\n",
        "    width=34\n",
        "    \n",
        "    imgs= np.empty((len(list(rows)),height,width,1),dtype=np.uint8)    # numpy.empty(shape, dtype=float, order='C', *, like=None)\n",
        "    tgs=np.empty((len(list(rows)),1))\n",
        "    imgs_flip= np.empty((len(list(rows)),height,width,1),dtype=np.uint8) # 좌우반전\n",
        "\n",
        "    for row,i in zip(rows,range(len(rows))):\n",
        "        #convert the list back to the image format\n",
        "\n",
        "        img= row['image']\n",
        "        img=img.strip('[').strip(']').split(',')\n",
        "\n",
        "        # rows= OrderedDict([('state', 'open'),\n",
        "        #       ('image',\n",
        "        #        '[88, 91, 95, 99, 102, 106, 109, 110, 113, 114, 118, 122, 123, 125, 126, 124, 125, 123, 124, 123, 120, 114, 117, 112, 108, 105, 100......)\n",
        "\n",
        "        im=np.array(img,dtype=np.uint8) # uint8\t부호 없는(unsigned) 8비트, 1바이트 정수\t0 ~ 255\n",
        "        im=im.reshape((26,34))\n",
        "        im=np.expand_dims(im,axis=2) # 3차원 추가(1= 흑백)\n",
        "        imgs[i]=im\n",
        "        imgs_flip[i]=np.fliplr(im)\n",
        "\n",
        "        #the tag for open is 1 and for close is 0\n",
        "\n",
        "        tag= row['state']\n",
        "        if tag == 'open':\n",
        "            tgs[i]=1\n",
        "        else:\n",
        "            tgs[i]=0\n",
        "    # 좌우 반전\n",
        "    imgs_concat=np.concatenate((imgs,imgs_flip))\n",
        "    tgs_concat=np.concatenate((tgs,tgs))\n",
        "\n",
        "    #return images and their respective tags\n",
        "    return imgs_concat , tgs_concat"
      ]
    },
    {
      "cell_type": "code",
      "execution_count": 9,
      "metadata": {
        "id": "K3aOuoGxLbKp"
      },
      "outputs": [],
      "source": [
        "X,y=readCsv('/content/drive/MyDrive/Colab Notebooks/업로드용 자료/dataset.csv')"
      ]
    },
    {
      "cell_type": "code",
      "execution_count": 10,
      "metadata": {
        "id": "8Y0lYQkcWjN1"
      },
      "outputs": [],
      "source": [
        "X_train, X_val, y_train, y_val = train_test_split(X, y, test_size=0.2, random_state=42)"
      ]
    },
    {
      "cell_type": "code",
      "execution_count": 11,
      "metadata": {
        "colab": {
          "base_uri": "https://localhost:8080/"
        },
        "id": "QIxmhgCL7TE4",
        "outputId": "b84b1c0a-727c-4fa0-9f07-332c16dd4bb2"
      },
      "outputs": [
        {
          "output_type": "execute_result",
          "data": {
            "text/plain": [
              "((4598, 26, 34, 1), (4598, 1), (1150, 26, 34, 1), (1150, 1))"
            ]
          },
          "metadata": {},
          "execution_count": 11
        }
      ],
      "source": [
        "X_train.shape ,y_train.shape,X_val.shape ,y_val.shape"
      ]
    },
    {
      "cell_type": "code",
      "execution_count": 12,
      "metadata": {
        "colab": {
          "base_uri": "https://localhost:8080/",
          "height": 269
        },
        "id": "tyxa01wu7_f9",
        "outputId": "f61d4126-fd37-4386-da69-09f90131d914"
      },
      "outputs": [
        {
          "output_type": "display_data",
          "data": {
            "text/plain": [
              "<Figure size 432x288 with 25 Axes>"
            ],
            "image/png": "[encoded data removed]"
          },
          "metadata": {
            "needs_background": "light"
          }
        }
      ],
      "source": [
        "for i in range(25):\n",
        "    plt.subplot(5,5,i+1)\n",
        "    plt.imshow(X_train[i].reshape((26, 34)), cmap='gray') # (26,34,1)이라서 (26,34)로 변경해준다"
      ]
    },
    {
      "cell_type": "markdown",
      "metadata": {
        "id": "frVBsMZaCM-G"
      },
      "source": [
        "# Data Augmentation"
      ]
    },
    {
      "cell_type": "code",
      "execution_count": 13,
      "metadata": {
        "id": "F9Pd0jIKCSn9"
      },
      "outputs": [],
      "source": [
        "datagen = ImageDataGenerator(\n",
        "    rescale=1./255,\n",
        "    rotation_range=20,\n",
        "    width_shift_range=0.2,\n",
        "    height_shift_range=0.2,\n",
        "\n",
        ")\n",
        "\n",
        "datagen_val=ImageDataGenerator(rescale=1./255)\n",
        "\n",
        "train_gen= datagen.flow(\n",
        "    x=X_train, y=y_train,\n",
        "    batch_size=32,\n",
        "    shuffle=False\n",
        ")\n",
        "\n",
        "val_gen=datagen_val.flow(\n",
        "    x=X_val,y=y_val,\n",
        "    batch_size=32,\n",
        "    shuffle=False\n",
        ")"
      ]
    },
    {
      "cell_type": "markdown",
      "metadata": {
        "id": "x5UXTIasJQe1"
      },
      "source": [
        "# Modeling"
      ]
    },
    {
      "cell_type": "code",
      "execution_count": 15,
      "metadata": {
        "id": "PwN2V7XHJSlq"
      },
      "outputs": [],
      "source": [
        "model=tf.keras.Sequential()\n",
        "model.add(Conv2D(32,(3,3),padding='same',activation='relu',strides=1,input_shape = (26, 34, 1))\n",
        ")\n",
        "model.add(MaxPooling2D(2,2))\n",
        "model.add(Conv2D(64,(3,3),padding='same',activation='relu',strides=1))\n",
        "model.add(MaxPooling2D(2,2))\n",
        "model.add(Conv2D(128,(3,3),padding='same',activation='relu',strides=1))\n",
        "model.add(MaxPooling2D(2,2))\n",
        "model.add(Flatten())\n",
        "model.add(Dense(256,activation='relu'))\n",
        "model.add(Dense(1,activation='sigmoid'))\n",
        "\n",
        "model.compile(optimizer='adam',\n",
        "              loss='binary_crossentropy',\n",
        "              metrics=['accuracy'])"
      ]
    },
    {
      "cell_type": "code",
      "execution_count": 16,
      "metadata": {
        "colab": {
          "base_uri": "https://localhost:8080/"
        },
        "id": "xz3sMyV1__D4",
        "outputId": "e99bc0f7-fe02-490a-9610-e605154d00df"
      },
      "outputs": [
        {
          "output_type": "stream",
          "name": "stdout",
          "text": [
            "Epoch 1/50\n",
            "144/144 [==============================] - 13s 21ms/step - loss: 0.4045 - accuracy: 0.8119 - val_loss: 0.1795 - val_accuracy: 0.9348\n",
            "Epoch 2/50\n",
            "144/144 [==============================] - 3s 19ms/step - loss: 0.2086 - accuracy: 0.9237 - val_loss: 0.0830 - val_accuracy: 0.9713\n",
            "Epoch 3/50\n",
            "144/144 [==============================] - 3s 18ms/step - loss: 0.1615 - accuracy: 0.9432 - val_loss: 0.0714 - val_accuracy: 0.9739\n",
            "Epoch 4/50\n",
            "144/144 [==============================] - 3s 18ms/step - loss: 0.1212 - accuracy: 0.9574 - val_loss: 0.0471 - val_accuracy: 0.9887\n",
            "Epoch 5/50\n",
            "144/144 [==============================] - 3s 19ms/step - loss: 0.1030 - accuracy: 0.9639 - val_loss: 0.0451 - val_accuracy: 0.9887\n",
            "Epoch 6/50\n",
            "144/144 [==============================] - 3s 19ms/step - loss: 0.0953 - accuracy: 0.9693 - val_loss: 0.0292 - val_accuracy: 0.9948\n",
            "Epoch 7/50\n",
            "144/144 [==============================] - 3s 23ms/step - loss: 0.0719 - accuracy: 0.9774 - val_loss: 0.0353 - val_accuracy: 0.9922\n",
            "Epoch 8/50\n",
            "144/144 [==============================] - 3s 18ms/step - loss: 0.0655 - accuracy: 0.9778 - val_loss: 0.0218 - val_accuracy: 0.9957\n",
            "Epoch 9/50\n",
            "144/144 [==============================] - 3s 19ms/step - loss: 0.0549 - accuracy: 0.9813 - val_loss: 0.0266 - val_accuracy: 0.9948\n",
            "Epoch 10/50\n",
            "144/144 [==============================] - 3s 18ms/step - loss: 0.0590 - accuracy: 0.9806 - val_loss: 0.0234 - val_accuracy: 0.9948\n",
            "Epoch 11/50\n",
            "144/144 [==============================] - 3s 19ms/step - loss: 0.0542 - accuracy: 0.9817 - val_loss: 0.0165 - val_accuracy: 0.9957\n",
            "Epoch 12/50\n",
            "144/144 [==============================] - 3s 19ms/step - loss: 0.0400 - accuracy: 0.9883 - val_loss: 0.0258 - val_accuracy: 0.9896\n",
            "Epoch 13/50\n",
            "144/144 [==============================] - 3s 21ms/step - loss: 0.0509 - accuracy: 0.9828 - val_loss: 0.0160 - val_accuracy: 0.9974\n",
            "Epoch 14/50\n",
            "144/144 [==============================] - 3s 23ms/step - loss: 0.0389 - accuracy: 0.9865 - val_loss: 0.0131 - val_accuracy: 0.9965\n",
            "Epoch 15/50\n",
            "144/144 [==============================] - 3s 18ms/step - loss: 0.0330 - accuracy: 0.9889 - val_loss: 0.0119 - val_accuracy: 0.9965\n",
            "Epoch 16/50\n",
            "144/144 [==============================] - 3s 19ms/step - loss: 0.0352 - accuracy: 0.9883 - val_loss: 0.0111 - val_accuracy: 0.9983\n",
            "Epoch 17/50\n",
            "144/144 [==============================] - 3s 19ms/step - loss: 0.0352 - accuracy: 0.9880 - val_loss: 0.0119 - val_accuracy: 0.9965\n",
            "Epoch 18/50\n",
            "144/144 [==============================] - 3s 19ms/step - loss: 0.0382 - accuracy: 0.9889 - val_loss: 0.0056 - val_accuracy: 0.9983\n",
            "Epoch 19/50\n",
            "144/144 [==============================] - 3s 19ms/step - loss: 0.0219 - accuracy: 0.9935 - val_loss: 0.0110 - val_accuracy: 0.9974\n",
            "Epoch 20/50\n",
            "144/144 [==============================] - 3s 19ms/step - loss: 0.0262 - accuracy: 0.9909 - val_loss: 0.0049 - val_accuracy: 0.9983\n",
            "Epoch 21/50\n",
            "144/144 [==============================] - 3s 19ms/step - loss: 0.0249 - accuracy: 0.9922 - val_loss: 0.0166 - val_accuracy: 0.9948\n",
            "Epoch 22/50\n",
            "144/144 [==============================] - 3s 18ms/step - loss: 0.0261 - accuracy: 0.9917 - val_loss: 0.0075 - val_accuracy: 0.9965\n",
            "Epoch 23/50\n",
            "144/144 [==============================] - 3s 19ms/step - loss: 0.0245 - accuracy: 0.9902 - val_loss: 0.0039 - val_accuracy: 0.9991\n",
            "Epoch 24/50\n",
            "144/144 [==============================] - 3s 19ms/step - loss: 0.0235 - accuracy: 0.9920 - val_loss: 0.0330 - val_accuracy: 0.9904\n",
            "Epoch 25/50\n",
            "144/144 [==============================] - 3s 19ms/step - loss: 0.0314 - accuracy: 0.9887 - val_loss: 0.0137 - val_accuracy: 0.9948\n",
            "Epoch 26/50\n",
            "144/144 [==============================] - 3s 19ms/step - loss: 0.0254 - accuracy: 0.9909 - val_loss: 0.0078 - val_accuracy: 0.9974\n",
            "Epoch 27/50\n",
            "144/144 [==============================] - 3s 19ms/step - loss: 0.0212 - accuracy: 0.9935 - val_loss: 0.0074 - val_accuracy: 0.9983\n",
            "Epoch 28/50\n",
            "144/144 [==============================] - 3s 19ms/step - loss: 0.0229 - accuracy: 0.9928 - val_loss: 0.0066 - val_accuracy: 0.9983\n",
            "Epoch 29/50\n",
            "144/144 [==============================] - 3s 19ms/step - loss: 0.0161 - accuracy: 0.9954 - val_loss: 0.0194 - val_accuracy: 0.9930\n",
            "Epoch 30/50\n",
            "144/144 [==============================] - 3s 19ms/step - loss: 0.0224 - accuracy: 0.9915 - val_loss: 0.0064 - val_accuracy: 0.9983\n",
            "Epoch 31/50\n",
            "144/144 [==============================] - 3s 19ms/step - loss: 0.0190 - accuracy: 0.9930 - val_loss: 0.0086 - val_accuracy: 0.9974\n",
            "Epoch 32/50\n",
            "144/144 [==============================] - 3s 19ms/step - loss: 0.0199 - accuracy: 0.9926 - val_loss: 0.0049 - val_accuracy: 0.9983\n",
            "Epoch 33/50\n",
            "144/144 [==============================] - 3s 19ms/step - loss: 0.0135 - accuracy: 0.9954 - val_loss: 0.0036 - val_accuracy: 0.9991\n",
            "Epoch 34/50\n",
            "144/144 [==============================] - 3s 19ms/step - loss: 0.0189 - accuracy: 0.9950 - val_loss: 0.0048 - val_accuracy: 0.9983\n",
            "Epoch 35/50\n",
            "144/144 [==============================] - 3s 19ms/step - loss: 0.0145 - accuracy: 0.9950 - val_loss: 0.0030 - val_accuracy: 1.0000\n",
            "Epoch 36/50\n",
            "144/144 [==============================] - 3s 19ms/step - loss: 0.0216 - accuracy: 0.9939 - val_loss: 0.0112 - val_accuracy: 0.9983\n",
            "Epoch 37/50\n",
            "144/144 [==============================] - 3s 19ms/step - loss: 0.0092 - accuracy: 0.9976 - val_loss: 0.0031 - val_accuracy: 0.9991\n",
            "Epoch 38/50\n",
            "144/144 [==============================] - 3s 19ms/step - loss: 0.0206 - accuracy: 0.9924 - val_loss: 0.0105 - val_accuracy: 0.9957\n",
            "Epoch 39/50\n",
            "144/144 [==============================] - 3s 19ms/step - loss: 0.0119 - accuracy: 0.9970 - val_loss: 0.0245 - val_accuracy: 0.9922\n",
            "Epoch 40/50\n",
            "144/144 [==============================] - 3s 19ms/step - loss: 0.0141 - accuracy: 0.9948 - val_loss: 0.0096 - val_accuracy: 0.9965\n",
            "Epoch 41/50\n",
            "144/144 [==============================] - 3s 19ms/step - loss: 0.0225 - accuracy: 0.9926 - val_loss: 0.0066 - val_accuracy: 0.9965\n",
            "Epoch 42/50\n",
            "144/144 [==============================] - 3s 19ms/step - loss: 0.0127 - accuracy: 0.9959 - val_loss: 0.0021 - val_accuracy: 0.9991\n",
            "Epoch 43/50\n",
            "144/144 [==============================] - 3s 19ms/step - loss: 0.0093 - accuracy: 0.9974 - val_loss: 0.0028 - val_accuracy: 1.0000\n",
            "Epoch 44/50\n",
            "144/144 [==============================] - 3s 19ms/step - loss: 0.0096 - accuracy: 0.9965 - val_loss: 0.0044 - val_accuracy: 0.9983\n",
            "Epoch 45/50\n",
            "144/144 [==============================] - 3s 19ms/step - loss: 0.0104 - accuracy: 0.9972 - val_loss: 0.0066 - val_accuracy: 0.9983\n",
            "Epoch 46/50\n",
            "144/144 [==============================] - 3s 19ms/step - loss: 0.0151 - accuracy: 0.9933 - val_loss: 0.0211 - val_accuracy: 0.9957\n",
            "Epoch 47/50\n",
            "144/144 [==============================] - 3s 19ms/step - loss: 0.0148 - accuracy: 0.9939 - val_loss: 0.0031 - val_accuracy: 0.9991\n",
            "Epoch 48/50\n",
            "144/144 [==============================] - 3s 19ms/step - loss: 0.0122 - accuracy: 0.9952 - val_loss: 0.0060 - val_accuracy: 0.9991\n",
            "Epoch 49/50\n",
            "144/144 [==============================] - 3s 19ms/step - loss: 0.0109 - accuracy: 0.9965 - val_loss: 0.0109 - val_accuracy: 0.9974\n",
            "Epoch 50/50\n",
            "144/144 [==============================] - 3s 19ms/step - loss: 0.0197 - accuracy: 0.9935 - val_loss: 0.0053 - val_accuracy: 0.9991\n"
          ]
        },
        {
          "output_type": "execute_result",
          "data": {
            "text/plain": [
              "<keras.callbacks.History at 0x7f04f9ee3d10>"
            ]
          },
          "metadata": {},
          "execution_count": 16
        }
      ],
      "source": [
        "model.fit(train_gen,epochs=50,validation_data=val_gen)"
      ]
    },
    {
      "cell_type": "code",
      "execution_count": 17,
      "metadata": {
        "colab": {
          "base_uri": "https://localhost:8080/"
        },
        "id": "RWplGY7nGUqo",
        "outputId": "4926dfd0-fd5e-41fc-e0f4-b805f5f11e3e"
      },
      "outputs": [
        {
          "output_type": "stream",
          "name": "stdout",
          "text": [
            "Model: \"sequential\"\n",
            "_________________________________________________________________\n",
            " Layer (type)                Output Shape              Param #   \n",
            "=================================================================\n",
            " conv2d (Conv2D)             (None, 26, 34, 32)        320       \n",
            "                                                                 \n",
            " max_pooling2d (MaxPooling2D  (None, 13, 17, 32)       0         \n",
            " )                                                               \n",
            "                                                                 \n",
            " conv2d_1 (Conv2D)           (None, 13, 17, 64)        18496     \n",
            "                                                                 \n",
            " max_pooling2d_1 (MaxPooling  (None, 6, 8, 64)         0         \n",
            " 2D)                                                             \n",
            "                                                                 \n",
            " conv2d_2 (Conv2D)           (None, 6, 8, 128)         73856     \n",
            "                                                                 \n",
            " max_pooling2d_2 (MaxPooling  (None, 3, 4, 128)        0         \n",
            " 2D)                                                             \n",
            "                                                                 \n",
            " flatten (Flatten)           (None, 1536)              0         \n",
            "                                                                 \n",
            " dense (Dense)               (None, 256)               393472    \n",
            "                                                                 \n",
            " dense_1 (Dense)             (None, 1)                 257       \n",
            "                                                                 \n",
            "=================================================================\n",
            "Total params: 486,401\n",
            "Trainable params: 486,401\n",
            "Non-trainable params: 0\n",
            "_________________________________________________________________\n"
          ]
        }
      ],
      "source": [
        "model.summary()"
      ]
    },
    {
      "cell_type": "code",
      "execution_count": 18,
      "metadata": {
        "colab": {
          "base_uri": "https://localhost:8080/",
          "height": 376
        },
        "id": "RraFtuPzEgKw",
        "outputId": "383f5b52-98f5-4d3a-c62c-934f80f2efd1"
      },
      "outputs": [
        {
          "output_type": "stream",
          "name": "stdout",
          "text": [
            "test acc: 0.9991304347826087\n"
          ]
        },
        {
          "output_type": "stream",
          "name": "stderr",
          "text": [
            "/usr/local/lib/python3.7/dist-packages/ipykernel_launcher.py:5: DeprecationWarning: `np.int` is a deprecated alias for the builtin `int`. To silence this warning, use `int` by itself. Doing this will not modify any behavior and is safe. When replacing `np.int`, you may wish to use e.g. `np.int64` or `np.int32` to specify the precision. If you wish to review your current use, check the release note link for additional information.\n",
            "Deprecated in NumPy 1.20; for more details and guidance: https://numpy.org/devdocs/release/1.20.0-notes.html#deprecations\n",
            "  \"\"\"\n"
          ]
        },
        {
          "output_type": "execute_result",
          "data": {
            "text/plain": [
              "<matplotlib.axes._subplots.AxesSubplot at 0x7f04fa0f7f90>"
            ]
          },
          "metadata": {},
          "execution_count": 18
        },
        {
          "output_type": "display_data",
          "data": {
            "text/plain": [
              "<Figure size 432x288 with 2 Axes>"
            ],
            "image/png": "[encoded data removed]"
          },
          "metadata": {
            "needs_background": "light"
          }
        }
      ],
      "source": [
        "from sklearn.metrics import accuracy_score, confusion_matrix\n",
        "import seaborn as sns\n",
        "\n",
        "y_pred = model.predict(X_val/255.)\n",
        "y_pred_logical = (y_pred > 0.5).astype(np.int)\n",
        "\n",
        "print ('test acc: %s' % accuracy_score(y_val, y_pred_logical))\n",
        "cm = confusion_matrix(y_val, y_pred_logical)\n",
        "sns.heatmap(cm, annot=True)"
      ]
    },
    {
      "cell_type": "code",
      "execution_count": 19,
      "metadata": {
        "id": "EZMxU8DOKr8U"
      },
      "outputs": [],
      "source": [
        "model.save('blink_or_not.h5')"
      ]
    }
  ],
  "metadata": {
    "colab": {
      "collapsed_sections": [],
      "name": "train.ipynb",
      "provenance": []
    },
    "kernelspec": {
      "display_name": "Python 3",
      "name": "python3"
    },
    "language_info": {
      "name": "python"
    }
  },
  "nbformat": 4,
  "nbformat_minor": 0
}